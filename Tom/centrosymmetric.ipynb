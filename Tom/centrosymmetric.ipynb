{
 "cells": [
  {
   "cell_type": "code",
   "execution_count": 14,
   "id": "fossil-algorithm",
   "metadata": {},
   "outputs": [],
   "source": [
    "import pandas as pd\n",
    "import sklearn as sk\n",
    "import numpy as np\n",
    "from rdkit import Chem\n",
    "from pathlib import Path"
   ]
  },
  {
   "cell_type": "code",
   "execution_count": 15,
   "id": "temporal-porter",
   "metadata": {},
   "outputs": [
    {
     "data": {
      "text/plain": [
       "dict_keys(['test_mord3d', 'test_morgan', 'test_rdk', 'test_descriptors'])"
      ]
     },
     "execution_count": 15,
     "metadata": {},
     "output_type": "execute_result"
    }
   ],
   "source": [
    "import glob\n",
    "test_csvs = glob.glob(\"../data/test_*.csv\")\n",
    "tests = {Path(t).stem : pd.read_csv(t) for t in test_csvs}\n",
    "tests.keys()"
   ]
  },
  {
   "cell_type": "code",
   "execution_count": 16,
   "id": "finished-journey",
   "metadata": {},
   "outputs": [
    {
     "data": {
      "text/plain": [
       "dict_keys(['train_mord3d', 'train_centroid_distances', 'train_morgan', 'train_descriptors', 'train_crystals', 'train_distances', 'train_rdk'])"
      ]
     },
     "execution_count": 16,
     "metadata": {},
     "output_type": "execute_result"
    }
   ],
   "source": [
    "train_csvs = glob.glob(\"../data/train_*.csv\")\n",
    "train = {Path(t).stem : pd.read_csv(t) for t in train_csvs}\n",
    "train.keys()"
   ]
  },
  {
   "cell_type": "code",
   "execution_count": 18,
   "id": "first-session",
   "metadata": {},
   "outputs": [
    {
     "data": {
      "text/plain": [
       "Index(['identifiers', 'n_heavy_atoms', 'smiles', 'a', 'b', 'c', 'alpha',\n",
       "       'beta', 'gamma', 'z_value', 'z_prime', 'spacegroup_symbol',\n",
       "       'cell_volume', 'calculated_density', 'packing_coefficient',\n",
       "       'void_volume', 'is_centrosymmetric', 'is_sohncke', 'vdw_inter',\n",
       "       'vdw_intra', 'hbond_inter', 'hbond_intra'],\n",
       "      dtype='object')"
      ]
     },
     "execution_count": 18,
     "metadata": {},
     "output_type": "execute_result"
    }
   ],
   "source": [
    "train['train_crystals'][]"
   ]
  },
  {
   "cell_type": "code",
   "execution_count": null,
   "id": "seasonal-holder",
   "metadata": {},
   "outputs": [],
   "source": []
  }
 ],
 "metadata": {
  "kernelspec": {
   "display_name": "Python [conda env:root] *",
   "language": "python",
   "name": "conda-root-py"
  },
  "language_info": {
   "codemirror_mode": {
    "name": "ipython",
    "version": 3
   },
   "file_extension": ".py",
   "mimetype": "text/x-python",
   "name": "python",
   "nbconvert_exporter": "python",
   "pygments_lexer": "ipython3",
   "version": "3.7.7"
  }
 },
 "nbformat": 4,
 "nbformat_minor": 5
}
